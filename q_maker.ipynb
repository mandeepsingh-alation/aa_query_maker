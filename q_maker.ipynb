{
 "cells": [
  {
   "cell_type": "code",
   "execution_count": null,
   "metadata": {},
   "outputs": [],
   "source": [
    "from string import Template\n",
    "from pyperclip import copy"
   ]
  },
  {
   "cell_type": "code",
   "execution_count": null,
   "metadata": {},
   "outputs": [],
   "source": [
    "# A data packet example is given below\n",
    "# format: \"{field: [field_id, field datatype]}\" \n",
    "###################################################\n",
    "# THESE ARE THE ONLY SETTINGS YOU NEED TO CHANGE\n",
    "data_dict = {'ds_id':[3147,'integer_value'],\n",
    "             'ds_private':[3255,'boolean_value'],\n",
    "             'ds_title':[3,'text_value']}\n",
    "object_name = 'datasource'\n",
    "object_type_id = 7\n",
    "###################################################"
   ]
  },
  {
   "cell_type": "code",
   "execution_count": null,
   "metadata": {},
   "outputs": [],
   "source": [
    "# setup the data packets and parameters\n",
    "attrs_dict = dict(zip(data_dict.keys(),list(map(lambda x: x[0],data_dict.values()))))\n",
    "type_dict = dict(zip(data_dict.keys(),list(map(lambda x: x[1],data_dict.values()))))\n",
    "\n",
    "# placeholders for data\n",
    "full_join_block = ''\n",
    "full_where_block = ''\n",
    "full_select_block = ''"
   ]
  },
  {
   "cell_type": "code",
   "execution_count": null,
   "metadata": {},
   "outputs": [],
   "source": [
    "# Base query skeleton\n",
    "base_template = Template(\"\"\"SELECT\n",
    "    AO.*,\n",
    "$select_block\n",
    "FROM\n",
    "    public.alation_object AS AO\n",
    "$join_block\n",
    "WHERE\n",
    "    AO.object_type_id = $object_type_id\n",
    "$where_block;\n",
    "\"\"\")\n",
    "\n",
    "# Select block template\n",
    "select_template = Template(\"\"\"    FV_$name.$a_type AS $name,\"\"\")\n",
    "\n",
    "# Join block template\n",
    "join_template = Template(\"\"\"\n",
    "-- Get $field_name for the $object_name\n",
    "JOIN\n",
    "    public.object_field_value AS OFV_$field_name\n",
    "    ON\n",
    "        AO.object_uuid = OFV_$field_name.object_uuid\n",
    "    AND\n",
    "        AO.object_type_id = OFV_$field_name.object_type_id\n",
    "-- Get field value\n",
    "JOIN\n",
    "    public.field_value AS FV_$field_name\n",
    "    ON\n",
    "        OFV_$field_name.value_fp = FV_$field_name.value_fp\n",
    "\"\"\")\n",
    "\n",
    "# Where block template\n",
    "where_template = Template(\"\"\"\n",
    "AND\n",
    "    -- get only field_id = $field_id, $field_name\n",
    "    OFV_$field_name.field_id = $field_id\"\"\")"
   ]
  },
  {
   "cell_type": "code",
   "execution_count": null,
   "metadata": {},
   "outputs": [],
   "source": [
    "# build join statements\n",
    "for each in attrs_dict.keys():\n",
    "    full_join_block = full_join_block + join_template.substitute(field_name=each,object_name=object_name)\n",
    "\n",
    "# build where statements\n",
    "for field_name, field_id in attrs_dict.items():\n",
    "    full_where_block = full_where_block + where_template.substitute(field_name=field_name,field_id=field_id)\n",
    "\n",
    "# build select statements\n",
    "for attr,attr_type in type_dict.items():\n",
    "    full_select_block = full_select_block + select_template.substitute(name=attr,a_type=attr_type) + '\\n'\n",
    "\n",
    "full_select_block = full_select_block[:-2] + '\\n'\n",
    "\n",
    "full_query = base_template.substitute(select_block = full_select_block,\n",
    "                                      join_block = full_join_block,\n",
    "                                      object_type_id = object_type_id,\n",
    "                                      where_block = full_where_block)"
   ]
  },
  {
   "cell_type": "code",
   "execution_count": null,
   "metadata": {},
   "outputs": [],
   "source": [
    "copy(full_query)\n",
    "# now paste the query into compose or text editor"
   ]
  }
 ],
 "metadata": {
  "kernelspec": {
   "display_name": "Python 3",
   "language": "python",
   "name": "python3"
  },
  "language_info": {
   "codemirror_mode": {
    "name": "ipython",
    "version": 3
   },
   "file_extension": ".py",
   "mimetype": "text/x-python",
   "name": "python",
   "nbconvert_exporter": "python",
   "pygments_lexer": "ipython3",
   "version": "3.7.4"
  }
 },
 "nbformat": 4,
 "nbformat_minor": 2
}
